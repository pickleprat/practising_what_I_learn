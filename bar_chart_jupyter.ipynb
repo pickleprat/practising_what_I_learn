{
 "cells": [
  {
   "cell_type": "code",
   "execution_count": 4,
   "metadata": {},
   "outputs": [],
   "source": [
    "import pandas as pd \n",
    "dev_survey = pd.read_csv('./comma_seperated_values/dev_survey/survey_results_public.csv')\n",
    "main_data = dev_survey.loc[:, ['ResponseId', 'LanguageHaveWorkedWith']]"
   ]
  },
  {
   "cell_type": "code",
   "execution_count": 17,
   "metadata": {},
   "outputs": [
    {
     "data": {
      "text/plain": [
       "dict_values([53587, 46259, 39792, 38835, 29162])"
      ]
     },
     "execution_count": 17,
     "metadata": {},
     "output_type": "execute_result"
    }
   ],
   "source": [
    "from collections import Counter \n",
    "\n",
    "count = Counter()\n",
    "for languages in main_data['LanguageHaveWorkedWith']:\n",
    "    num_of_languages = str(languages).split(';')\n",
    "    count.update(num_of_languages)\n",
    "\n",
    "popular_languages = dict(count.most_common(5))\n",
    "\n"
   ]
  },
  {
   "cell_type": "code",
   "execution_count": 25,
   "metadata": {},
   "outputs": [
    {
     "data": {
      "image/png": "[encoded data removed]",
      "text/plain": [
       "<Figure size 432x288 with 1 Axes>"
      ]
     },
     "metadata": {},
     "output_type": "display_data"
    }
   ],
   "source": [
    "from matplotlib import pyplot as plt\n",
    "plt.style.use('ggplot')\n",
    "plt.bar(popular_languages.keys(), popular_languages.values(), color = 'k', width=0.5)\n",
    "plt.xlabel = 'Languages'\n",
    "\n",
    "plt.title = 'Poplarity of languages'\n",
    "plt.ylabel = 'Programmers using the language'\n",
    "plt.grid(False)\n",
    "plt.show()"
   ]
  },
  {
   "cell_type": "code",
   "execution_count": null,
   "metadata": {},
   "outputs": [],
   "source": []
  }
 ],
 "metadata": {
  "interpreter": {
   "hash": "c380916f55b2076dd0b35b32c62e20f6132a382b61bea301e7c40abcdf81339b"
  },
  "kernelspec": {
   "display_name": "Python 3.10.0 ('matplotlib': venv)",
   "language": "python",
   "name": "python3"
  },
  "language_info": {
   "codemirror_mode": {
    "name": "ipython",
    "version": 3
   },
   "file_extension": ".py",
   "mimetype": "text/x-python",
   "name": "python",
   "nbconvert_exporter": "python",
   "pygments_lexer": "ipython3",
   "version": "3.10.0"
  },
  "orig_nbformat": 4
 },
 "nbformat": 4,
 "nbformat_minor": 2
}
